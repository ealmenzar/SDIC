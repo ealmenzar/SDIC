{
 "metadata": {
  "name": "",
  "signature": "sha256:0aede16b019ba2954bd0253cc10976ef9bb2267db5f3018eadad7a46a1c778dd"
 },
 "nbformat": 3,
 "nbformat_minor": 0,
 "worksheets": [
  {
   "cells": [
    {
     "cell_type": "code",
     "collapsed": false,
     "input": [
      "from robots.epuck import Epuck"
     ],
     "language": "python",
     "metadata": {},
     "outputs": [],
     "prompt_number": 2
    },
    {
     "cell_type": "code",
     "collapsed": false,
     "input": [
      "# import sys\n",
      "# sys.path.append(\"/home/clement/software/V-REP_PRO_EDU_V3_2_2_64_Linux/programming/remoteApiBindings/python/python/\")\n",
      " \n",
      "class AugmentedEpuck(Epuck):\n",
      "    \n",
      "    def __init__(self):\n",
      "        Epuck.__init__(self)\n",
      "        \n",
      "    def obstacle(self, group=\"all\", min_dist=10): #min_dist in millimeters\n",
      "        proxs = self.proximeters(group)\n",
      "        proxs = proxs[proxs != 0.]\n",
      "        \n",
      "        if len(proxs):\n",
      "            return min(proxs) < min_dist\n",
      "        else:\n",
      "            return False\n",
      "        \n",
      "    def explore(self):\n",
      "        proxs = self.proximeters(group=\"all-but-rear\")\n",
      "        if any(proxs):\n",
      "            i_max = argmax(proxs)\n",
      "            angle = - (i_max - 2.5)  # in [-2.5, 2.5]  (abstract unit)\n",
      "        else:\n",
      "            angle =0.\n",
      "        self.move(self.fwd_spd, angle)\n",
      "        \n",
      "        \n",
      "    \n",
      "    def update(self):\n",
      "        self.explore()\n",
      "        return\n",
      "    \n",
      "        if self.obstacle(group=\"front-left\", min_dist=1000):\n",
      "            self.move(self.avoid_fwd_spd, - self.avoid_rot_spd)\n",
      "        elif self.obstacle(group=\"front-right\", min_dist=100):\n",
      "            self.move(self.avoid_fwd_spd, self.avoid_rot_spd)\n",
      "        else:\n",
      "            self.move(self.fwd_spd)"
     ],
     "language": "python",
     "metadata": {},
     "outputs": [],
     "prompt_number": 3
    },
    {
     "cell_type": "code",
     "collapsed": false,
     "input": [
      "import vrep\n",
      "vrep.vrep.simxGetFloatSignal(epuck.clientID, \"CurrentTime\", vrep.vrep.simx_opmode_streaming)"
     ],
     "language": "python",
     "metadata": {},
     "outputs": [
      {
       "metadata": {},
       "output_type": "pyout",
       "prompt_number": 20,
       "text": [
        "(0, 63.04932403564453)"
       ]
      }
     ],
     "prompt_number": 20
    },
    {
     "cell_type": "code",
     "collapsed": false,
     "input": [
      "epuck = Epuck()"
     ],
     "language": "python",
     "metadata": {},
     "outputs": [],
     "prompt_number": 4
    },
    {
     "cell_type": "code",
     "collapsed": false,
     "input": [
      "epuck.start()"
     ],
     "language": "python",
     "metadata": {},
     "outputs": [],
     "prompt_number": 5
    },
    {
     "cell_type": "code",
     "collapsed": false,
     "input": [
      "epuck.move(.1)"
     ],
     "language": "python",
     "metadata": {},
     "outputs": [],
     "prompt_number": 6
    },
    {
     "cell_type": "code",
     "collapsed": false,
     "input": [
      "epuck.avoid_fwd_spd = .2\n",
      "epuck.avoid_rot_spd = .5"
     ],
     "language": "python",
     "metadata": {},
     "outputs": [],
     "prompt_number": 9
    },
    {
     "cell_type": "code",
     "collapsed": false,
     "input": [
      "epuck.stop()"
     ],
     "language": "python",
     "metadata": {},
     "outputs": [],
     "prompt_number": 7
    },
    {
     "cell_type": "code",
     "collapsed": false,
     "input": [
      "import time\n",
      "while True:\n",
      "    epuck.update()\n",
      "    time.sleep(0.01)"
     ],
     "language": "python",
     "metadata": {},
     "outputs": []
    },
    {
     "cell_type": "code",
     "collapsed": false,
     "input": [
      "image = epuck.light_sensor_image()"
     ],
     "language": "python",
     "metadata": {},
     "outputs": [],
     "prompt_number": 22
    },
    {
     "cell_type": "code",
     "collapsed": false,
     "input": [
      "image"
     ],
     "language": "python",
     "metadata": {},
     "outputs": [
      {
       "metadata": {},
       "output_type": "pyout",
       "prompt_number": 23,
       "text": [
        "[82,\n",
        " 82,\n",
        " 82,\n",
        " 82,\n",
        " 82,\n",
        " 82,\n",
        " 81,\n",
        " 81,\n",
        " 81,\n",
        " 81,\n",
        " 81,\n",
        " 81,\n",
        " 81,\n",
        " 81,\n",
        " 81,\n",
        " 81,\n",
        " 81,\n",
        " 81,\n",
        " 80,\n",
        " 80,\n",
        " 80,\n",
        " 80,\n",
        " 80,\n",
        " 80,\n",
        " 80,\n",
        " 80,\n",
        " 80,\n",
        " 80,\n",
        " 80,\n",
        " 80,\n",
        " 81,\n",
        " 81,\n",
        " 81,\n",
        " 82,\n",
        " 82,\n",
        " 82,\n",
        " 82,\n",
        " 82,\n",
        " 82,\n",
        " 82,\n",
        " 82,\n",
        " 82,\n",
        " 82,\n",
        " 82,\n",
        " 82,\n",
        " 82,\n",
        " 82,\n",
        " 82,\n",
        " 82,\n",
        " 82,\n",
        " 82,\n",
        " 82,\n",
        " 82,\n",
        " 82,\n",
        " 82,\n",
        " 82,\n",
        " 82,\n",
        " 81,\n",
        " 81,\n",
        " 81,\n",
        " 81,\n",
        " 81,\n",
        " 81,\n",
        " 81,\n",
        " 81,\n",
        " 81,\n",
        " 81,\n",
        " 81,\n",
        " 81,\n",
        " 80,\n",
        " 80,\n",
        " 80,\n",
        " 80,\n",
        " 80,\n",
        " 80,\n",
        " 80,\n",
        " 80,\n",
        " 80,\n",
        " 80,\n",
        " 80,\n",
        " 80,\n",
        " 81,\n",
        " 81,\n",
        " 81,\n",
        " 82,\n",
        " 82,\n",
        " 82,\n",
        " 82,\n",
        " 82,\n",
        " 82,\n",
        " 82,\n",
        " 82,\n",
        " 82,\n",
        " 82,\n",
        " 82,\n",
        " 82]"
       ]
      }
     ],
     "prompt_number": 23
    },
    {
     "cell_type": "code",
     "collapsed": false,
     "input": [
      "%pylab inline"
     ],
     "language": "python",
     "metadata": {},
     "outputs": [
      {
       "output_type": "stream",
       "stream": "stdout",
       "text": [
        "Populating the interactive namespace from numpy and matplotlib\n"
       ]
      }
     ],
     "prompt_number": 24
    },
    {
     "cell_type": "code",
     "collapsed": false,
     "input": [
      "image = array(image)"
     ],
     "language": "python",
     "metadata": {},
     "outputs": [],
     "prompt_number": 25
    },
    {
     "cell_type": "code",
     "collapsed": false,
     "input": [
      "image.resize(epuck.light_sensor_resolution[0], epuck.light_sensor_resolution[1], 3)"
     ],
     "language": "python",
     "metadata": {},
     "outputs": [],
     "prompt_number": 26
    },
    {
     "cell_type": "code",
     "collapsed": false,
     "input": [
      "imshow(-image[::-1, :, :])"
     ],
     "language": "python",
     "metadata": {},
     "outputs": [
      {
       "metadata": {},
       "output_type": "pyout",
       "prompt_number": 28,
       "text": [
        "<matplotlib.image.AxesImage at 0x7f6f5368be90>"
       ]
      },
      {
       "metadata": {},
       "output_type": "display_data",
       "png": "[encoded data removed]",
       "text": [
        "<matplotlib.figure.Figure at 0x7f6f5371ca10>"
       ]
      }
     ],
     "prompt_number": 28
    },
    {
     "cell_type": "code",
     "collapsed": false,
     "input": [
      "imshow?"
     ],
     "language": "python",
     "metadata": {},
     "outputs": [],
     "prompt_number": 49
    },
    {
     "cell_type": "code",
     "collapsed": false,
     "input": [
      "vrep.simxGetVisionSensorImage?"
     ],
     "language": "python",
     "metadata": {},
     "outputs": [],
     "prompt_number": 19
    },
    {
     "cell_type": "code",
     "collapsed": false,
     "input": [
      "epuck.move(0.01, 0.)"
     ],
     "language": "python",
     "metadata": {},
     "outputs": [],
     "prompt_number": 11
    },
    {
     "cell_type": "code",
     "collapsed": false,
     "input": [
      "epuck.move(-0.0, 0.)"
     ],
     "language": "python",
     "metadata": {},
     "outputs": [],
     "prompt_number": 12
    },
    {
     "cell_type": "code",
     "collapsed": false,
     "input": [
      "#while True:\n",
      "epuck.left_vel(1.)\n",
      "epuck.right_vel(1.)"
     ],
     "language": "python",
     "metadata": {},
     "outputs": [],
     "prompt_number": 8
    },
    {
     "cell_type": "code",
     "collapsed": false,
     "input": [
      "epuck.proximeters()"
     ],
     "language": "python",
     "metadata": {},
     "outputs": [
      {
       "metadata": {},
       "output_type": "pyout",
       "prompt_number": 13,
       "text": [
        "array([    0.        ,     0.        ,  1345.37093771,     0.        ,\n",
        "           0.        ,     0.        ,     0.        ,     0.        ])"
       ]
      }
     ],
     "prompt_number": 13
    },
    {
     "cell_type": "code",
     "collapsed": false,
     "input": [
      "epuck.stop()"
     ],
     "language": "python",
     "metadata": {},
     "outputs": [],
     "prompt_number": 13
    },
    {
     "cell_type": "code",
     "collapsed": false,
     "input": [
      "epuck.update()"
     ],
     "language": "python",
     "metadata": {},
     "outputs": [
      {
       "metadata": {},
       "output_type": "pyout",
       "prompt_number": 6,
       "text": [
        "(0.0030757186878145773, 0.014267283835540578)"
       ]
      }
     ],
     "prompt_number": 6
    },
    {
     "cell_type": "code",
     "collapsed": false,
     "input": [
      "sens = epuck.proximeters(\"front_right\")\n",
      "print sens\n",
      "min(sens[sens!=0.])"
     ],
     "language": "python",
     "metadata": {},
     "outputs": [
      {
       "output_type": "stream",
       "stream": "stdout",
       "text": [
        "[ 11.72275222  20.55213674   0.        ]\n"
       ]
      },
      {
       "metadata": {},
       "output_type": "pyout",
       "prompt_number": 10,
       "text": [
        "11.722752215476836"
       ]
      }
     ],
     "prompt_number": 10
    },
    {
     "cell_type": "code",
     "collapsed": false,
     "input": [
      "epuck.obstacle(group=\"rear\", min_dist=20)"
     ],
     "language": "python",
     "metadata": {},
     "outputs": [
      {
       "metadata": {},
       "output_type": "pyout",
       "prompt_number": 11,
       "text": [
        "True"
       ]
      }
     ],
     "prompt_number": 11
    },
    {
     "cell_type": "code",
     "collapsed": false,
     "input": [
      "epuck.proximeters()"
     ],
     "language": "python",
     "metadata": {},
     "outputs": [
      {
       "metadata": {},
       "output_type": "pyout",
       "prompt_number": 7,
       "text": [
        "array([  0.        ,  38.77520099,  16.26083609,  12.8461131 ,\n",
        "        18.67007239,   0.        ,   0.        ,   0.        ])"
       ]
      }
     ],
     "prompt_number": 7
    },
    {
     "cell_type": "code",
     "collapsed": false,
     "input": [
      "vrep.simxReadProximitySensor(epuck.clientID, epuck.prox_handles[5], vrep.simx_opmode_buffer)"
     ],
     "language": "python",
     "metadata": {},
     "outputs": [
      {
       "metadata": {},
       "output_type": "pyout",
       "prompt_number": 15,
       "text": [
        "(0,\n",
        " False,\n",
        " [-6.304471753537655e-06, -0.0033985914196819067, 0.012932207435369492],\n",
        " 53,\n",
        " [0.0004254865343682468, 0.6473219990730286, -0.7622165679931641])"
       ]
      }
     ],
     "prompt_number": 15
    },
    {
     "cell_type": "code",
     "collapsed": false,
     "input": [
      "proxs = []\n",
      "for i in range(1,9):\n",
      "    _, prox = vrep.simxGetObjectHandle(epuck.clientID, 'ePuck_proxSensor' + str(i), vrep.simx_opmode_oneshot_wait)\n",
      "    proxs.append(prox)"
     ],
     "language": "python",
     "metadata": {},
     "outputs": [],
     "prompt_number": 11
    },
    {
     "cell_type": "code",
     "collapsed": false,
     "input": [
      "res, detectionState, detectedPoint, detectedObjectHandle, detectedSurfaceNormalVector = vrep.simxReadProximitySensor(epuck.clientID, proxs[1], vrep.simx_opmode_oneshot_wait)"
     ],
     "language": "python",
     "metadata": {},
     "outputs": [],
     "prompt_number": 33
    },
    {
     "cell_type": "code",
     "collapsed": false,
     "input": [
      "from math import sqrt\n",
      "sqrt(sum([x ** 2 for x in detectedPoint]))"
     ],
     "language": "python",
     "metadata": {},
     "outputs": [
      {
       "metadata": {},
       "output_type": "pyout",
       "prompt_number": 36,
       "text": [
        "0.006979855504265273"
       ]
      }
     ],
     "prompt_number": 36
    },
    {
     "cell_type": "code",
     "collapsed": false,
     "input": [
      "proxs"
     ],
     "language": "python",
     "metadata": {},
     "outputs": [
      {
       "metadata": {},
       "output_type": "pyout",
       "prompt_number": 12,
       "text": [
        "[29, 30, 31, 32, 33, 34, 35, 36]"
       ]
      }
     ],
     "prompt_number": 12
    },
    {
     "cell_type": "code",
     "collapsed": false,
     "input": [
      "vrep.simxReadProximitySensor(epuck.clientID, proxs[3], vrep.simx_opmode_oneshot_wait)"
     ],
     "language": "python",
     "metadata": {},
     "outputs": [
      {
       "metadata": {},
       "output_type": "pyout",
       "prompt_number": 14,
       "text": [
        "(0,\n",
        " True,\n",
        " [1.0239048151561292e-06, -0.0008718345779925585, 0.007374793291091919],\n",
        " 53,\n",
        " [-0.00013787831994704902, 0.1174006462097168, -0.9930846095085144])"
       ]
      }
     ],
     "prompt_number": 14
    },
    {
     "cell_type": "code",
     "collapsed": false,
     "input": [
      "vrep.simxGetIntegerSignal(epuck.clientID, \"ePuck_proxSensor1\", vrep.simx_opmode_oneshot_wait)"
     ],
     "language": "python",
     "metadata": {},
     "outputs": [
      {
       "metadata": {},
       "output_type": "pyout",
       "prompt_number": 23,
       "text": [
        "(8, 0)"
       ]
      }
     ],
     "prompt_number": 23
    },
    {
     "cell_type": "code",
     "collapsed": false,
     "input": [
      "res, left_joint = vrep.simxGetObjectHandle(clientID, 'ePuck_leftJoint', vrep.simx_opmode_oneshot_wait)\n",
      "res, right_joint = vrep.simxGetObjectHandle(clientID, 'ePuck_rightJoint', vrep.simx_opmode_oneshot_wait)"
     ],
     "language": "python",
     "metadata": {},
     "outputs": [],
     "prompt_number": 13
    },
    {
     "cell_type": "code",
     "collapsed": false,
     "input": [
      "#res = vrep.simxPauseCommunication(clientID, True);\n",
      "res = vrep.simxSetJointTargetVelocity(clientID, left_joint, 0.3, vrep.simx_opmode_oneshot)\n",
      "res = vrep.simxSetJointTargetVelocity(clientID, right_joint, 0.3, vrep.simx_opmode_oneshot)\n",
      "#res = vrep.simxPauseCommunication(clientID, False);"
     ],
     "language": "python",
     "metadata": {},
     "outputs": [],
     "prompt_number": 48
    },
    {
     "cell_type": "code",
     "collapsed": false,
     "input": [
      "vrep.simxG"
     ],
     "language": "python",
     "metadata": {},
     "outputs": []
    },
    {
     "cell_type": "code",
     "collapsed": false,
     "input": [
      "res"
     ],
     "language": "python",
     "metadata": {},
     "outputs": [
      {
       "metadata": {},
       "output_type": "pyout",
       "prompt_number": 38,
       "text": [
        "0"
       ]
      }
     ],
     "prompt_number": 38
    },
    {
     "cell_type": "code",
     "collapsed": false,
     "input": [
      "res,objs=vrep.simxGetObjects(clientID,vrep.sim_handle_all,vrep.simx_opmode_oneshot_wait)"
     ],
     "language": "python",
     "metadata": {},
     "outputs": [],
     "prompt_number": 26
    },
    {
     "cell_type": "code",
     "collapsed": false,
     "input": [
      "res==vrep.simx_return_ok"
     ],
     "language": "python",
     "metadata": {},
     "outputs": [
      {
       "metadata": {},
       "output_type": "pyout",
       "prompt_number": 39,
       "text": [
        "True"
       ]
      }
     ],
     "prompt_number": 39
    },
    {
     "cell_type": "code",
     "collapsed": false,
     "input": [],
     "language": "python",
     "metadata": {},
     "outputs": []
    }
   ],
   "metadata": {}
  }
 ]
}