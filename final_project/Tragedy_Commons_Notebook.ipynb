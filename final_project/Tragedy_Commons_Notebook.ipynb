{
 "cells": [
  {
   "cell_type": "markdown",
   "metadata": {
    "colab_type": "text",
    "id": "HjaZ8q6CznoV"
   },
   "source": [
    "# Tragedy of Commons\n",
    "\n",
    "##### Max Dieckmann, Marina E. Almenzar and Olga Galí "
   ]
  },
  {
   "cell_type": "markdown",
   "metadata": {
    "colab_type": "text",
    "id": "HbHBhfCOznoa"
   },
   "source": [
    "## Introduction"
   ]
  },
  {
   "cell_type": "markdown",
   "metadata": {
    "colab_type": "text",
    "id": "EWyEaTtzznoc"
   },
   "source": [
    "We are aiming to simulate a situation investigating the effect of altruistic and egoistic behavior in relation to a shared resource (in this case food). Our idea is based on the Tradegy of the commons. \n",
    "\n",
    "The \"Tragedy of the Commons\" is a kind of social dilemma where a population of individuals have access to a finite common resource pool: each individual may temporarily increase its fitness through selfish behavior, but this inevitably leads to exhaust the common resource pool, ultimately ending with population extinction (Ostrom, 2008) because of utility-maximizing individuals rather than conserved for the benefit of all (Montanier & Bredeche, 2011).\n",
    "\n",
    "For this purpose, we will create a scenario where our robots compete for a shared resource. Initially, the robots will behave altruistic, where their drive to look for food is regulated by the presence and energy state (hunger) of other robots nearby. We hope that this will result in a stable environment, where the continous “regrowth” of the resource can keep up with its consumption.\n",
    "\n",
    "We then introduce the egoistic behavior to the robots or one of them, making its food seeking drive independant of the presence of other robots. Our assumption is that this will lead to the eventual depletion (or drastic reduction) of the shared resource.\n",
    "\n",
    "The environment designed to see the behavior of the robots (altruistic and selfish behaviors) is a small area on which robots can move freely. We have tried to make the space as simple as possible to be able to more easily observe the relationship between the type of robot behavior and the amount of food (spheres) that there are in the arena. Therefore, we have not added obstacles/objects that influence the behavior of robots and we have created a small space to move due to the limited number of robots that could be used (four robots)."
   ]
  },
  {
   "cell_type": "markdown",
   "metadata": {
    "colab_type": "text",
    "id": "_t-wgVR1znoe"
   },
   "source": [
    "#### References\n",
    "\n",
    "Montanier, J., & Bredeche, N. (2011). Surviving the Tragedy of Commons: Emergence of Altruism in a Population of Evolving Autonomous Agents. European Conference on Artificial Life.\n",
    "\n",
    "Ostrom, E. (2008). Tragedy of the Commons. In The New Palgrave Dictionary of Economics. Retrieved from http://hdl.handle.net/10535/5887\n",
    "\n",
    "\n"
   ]
  },
  {
   "cell_type": "markdown",
   "metadata": {
    "colab_type": "text",
    "id": "vuxPaYRtznoh"
   },
   "source": [
    "## Implementation"
   ]
  },
  {
   "cell_type": "markdown",
   "metadata": {
    "colab_type": "text",
    "id": "XrWyAelXznoj"
   },
   "source": [
    "### Loading and opening the project"
   ]
  },
  {
   "cell_type": "markdown",
   "metadata": {
    "colab_type": "text",
    "id": "GbVRAp3pznok"
   },
   "source": [
    "Open V-REP, load the scene Tragedy_Commons_SDIC.ttt and open the simulator session:"
   ]
  },
  {
   "cell_type": "code",
   "execution_count": 1,
   "metadata": {
    "colab": {},
    "colab_type": "code",
    "id": "uSL0bP1Mznom"
   },
   "outputs": [],
   "source": [
    "from simulator_interface import open_session, close_session\n",
    "import numpy as np\n",
    "from numpy.random import uniform, choice\n",
    "import math\n",
    "simulator, epuck1, epuck2, epuck3, epuck4 = open_session(n_epucks=4)\n",
    "\n",
    "# Define global variables\n",
    "# Robots starve when falling below a certain energy level\n",
    "STARVING_THRESHOLD = 0.1\n",
    "\n",
    "# This is used to log the number of spheres in the scene over time\n",
    "SPHERE_NUMBERS = []\n",
    "SPHERES_EATEN = 0"
   ]
  },
  {
   "cell_type": "markdown",
   "metadata": {
    "colab_type": "text",
    "id": "bl6gpecjznor"
   },
   "source": [
    "### Avoidance behavior"
   ]
  },
  {
   "cell_type": "markdown",
   "metadata": {
    "colab_type": "text",
    "id": "2lnnQcFwznos"
   },
   "source": [
    "All robots have attach to them the avoidance_obstacle behavior. The obstacle_avoidance behavior avoids trees and bumps. We fix the function provided in the practical sessions to avoid sticking to corners, bumps and other robots. When the sensors of the robot have similar values, i.e., the difference between these values is smaller than 0.1 we are increasing the velocity of the left wheel. Altruistic robots have a tendency to avoid food when they are not currently hungry."
   ]
  },
  {
   "cell_type": "code",
   "execution_count": 2,
   "metadata": {
    "colab": {},
    "colab_type": "code",
    "id": "eqLtTcF6znot"
   },
   "outputs": [],
   "source": [
    "def obstacle_avoidance(robot):\n",
    "    # Measure Walls and ePucks\n",
    "    left, right = robot.prox_activations(tracked_objects=[\"Bump\", \"ePuck\"])\n",
    "    # Measure Spheres\n",
    "    s_left, s_right = robot.prox_activations(tracked_objects=[\"Sphere\"])\n",
    "    # Default case: avoid what is sensed\n",
    "    left_wheel = 1 - right\n",
    "    right_wheel = 1 - left\n",
    "    weight = 1\n",
    "    # If the robot senses a Sphere, the selfish robot does not want to avoid it and the altruistic robot wants\n",
    "    # to persue or avoid based on its energy level.\n",
    "    if s_left + s_right > 0:\n",
    "        if robot.character == \"selfish\":\n",
    "            weight = 0\n",
    "        else:\n",
    "            left_wheel = 1 - max(right, s_right)\n",
    "            right_wheel = 1 - max(left, s_left)\n",
    "            weight = robot.energy_level\n",
    "    # This makes a sharp turn when the sensors are very similar to avoid getting stuck in corners.\n",
    "    elif abs(left - right) <= uniform(0.04, 0.06):\n",
    "        t = choice(2)\n",
    "        left_wheel = 1.5*(1 - t)\n",
    "        right_wheel = 1.5*t\n",
    "    return left_wheel, right_wheel, weight"
   ]
  },
  {
   "cell_type": "markdown",
   "metadata": {
    "colab_type": "text",
    "id": "oHuA-hiNznow"
   },
   "source": [
    "### Foraging Behavior"
   ]
  },
  {
   "cell_type": "markdown",
   "metadata": {
    "colab_type": "text",
    "id": "Juo2Ptvrznox"
   },
   "source": [
    "All robots are also equipped with a foraging behavior that causes them to seek food. Selfish robots do so disregarding both their own energy level and that of their peers. Altruistic robots only persue food when hungry and will stop their action when they sense another robot with less energy nearby. "
   ]
  },
  {
   "cell_type": "code",
   "execution_count": 3,
   "metadata": {
    "colab": {},
    "colab_type": "code",
    "id": "J3lL-YKIznoy"
   },
   "outputs": [],
   "source": [
    "def foraging(robot):\n",
    "    # Get the energy level of any robot that is sensed (only relevant for altruistic robots)\n",
    "    (e_left, e_right), (epuck_left, epuck_right) = robot.prox_activations(tracked_objects=[\"ePuck\"], return_epucks=True)\n",
    "    left_energy, right_energy = robot.sensed_epuck_attributes(epuck_left, epuck_right, \"energy_level\", default_value=1)\n",
    "    # Sense Spheres\n",
    "    s_left, s_right = robot.prox_activations(tracked_objects=[\"Sphere\"])\n",
    "    # Default case: persue the Sphere. Altruistic robots persue less if they have high energy.\n",
    "    left_wheel = s_right\n",
    "    right_wheel = s_left\n",
    "    weight = 1 - (robot.energy_level if robot.character == \"altruistic\" else 0)\n",
    "    # If no Sphere is sensed, don't apply foraging behavior\n",
    "    if (s_left + s_right) == 0:\n",
    "        weight = 0\n",
    "    # Altruistic robots only: If both a Sphere and another robot with lower energy is sensed, slow down considerably.\n",
    "    elif (robot.character == \"altruistic\") and ((robot.energy_level > left_energy > STARVING_THRESHOLD) or (robot.energy_level > right_energy > STARVING_THRESHOLD)):\n",
    "        left_wheel = 0\n",
    "        right_wheel = 0\n",
    "        weight = 1\n",
    "    return left_wheel, right_wheel, weight"
   ]
  },
  {
   "cell_type": "markdown",
   "metadata": {
    "colab_type": "text",
    "id": "3nqx39SXzno1"
   },
   "source": [
    "### Hunger Routine"
   ]
  },
  {
   "cell_type": "markdown",
   "metadata": {
    "colab_type": "text",
    "id": "MHOCEpGhzno2"
   },
   "source": [
    "This routine simulates the hunger drive of the robots. When they eat, their energy level rises by a flat amount but always slowly decreases over time. The function was slightly modified, such that energy decreases more rapidly when a robot has a lot of it, making overeating slightly less valuable."
   ]
  },
  {
   "cell_type": "code",
   "execution_count": 4,
   "metadata": {
    "colab": {},
    "colab_type": "code",
    "id": "Wyx5un37zno3"
   },
   "outputs": [],
   "source": [
    "def hunger(robot):\n",
    "    global SPHERES_EATEN\n",
    "    if robot.has_eaten():\n",
    "        # If the robot has consumed a Sphere since the last function call\n",
    "        # for logging purposes\n",
    "        SPHERES_EATEN += 1\n",
    "        # Increase the robots energy by a flat value\n",
    "        robot.energy_level = min(robot.energy_level + 0.2, 1)\n",
    "    else:\n",
    "        # Otherwise reduce the robots energy in a non-linear fashion (robots with high energy lose it faster).\n",
    "        x = 1 / (10 ** robot.energy_level)\n",
    "        x += .01\n",
    "        robot.energy_level = math.log10(1 / x)\n",
    "        # If the energy falls under a threshold, the robot starves - so sad :'(\n",
    "        if robot.energy_level < STARVING_THRESHOLD:\n",
    "            robot.detach_all_behaviors()\n",
    "            robot.detach_all_routines()"
   ]
  },
  {
   "cell_type": "markdown",
   "metadata": {
    "colab_type": "text",
    "id": "3ibBxTDxzno5"
   },
   "source": [
    "### Logging Routine"
   ]
  },
  {
   "cell_type": "markdown",
   "metadata": {
    "colab_type": "text",
    "id": "rhVxvkt_zno6"
   },
   "source": [
    "This routine logs robot energy level and total Sphere number."
   ]
  },
  {
   "cell_type": "code",
   "execution_count": 5,
   "metadata": {
    "colab": {},
    "colab_type": "code",
    "id": "0HPSC47Rzno7"
   },
   "outputs": [],
   "source": [
    "def epuck_log(robot):\n",
    "    global SPHERES_EATEN, SPHERE_NUMBERS    \n",
    "    # record the energy level in the topic called \"energy\"\n",
    "    robot.add_log(\"energy\", robot.energy_level)\n",
    "    # record the number of Spheres currently present in the scene\n",
    "    SPHERE_NUMBERS.append(simulator.n_spheres - SPHERES_EATEN)\n"
   ]
  },
  {
   "cell_type": "markdown",
   "metadata": {
    "colab_type": "text",
    "id": "LkXaxXYUzno9"
   },
   "source": [
    "### Function to initialize the robots"
   ]
  },
  {
   "cell_type": "code",
   "execution_count": 6,
   "metadata": {
    "colab": {},
    "colab_type": "code",
    "id": "KOpj_D0Ozno9"
   },
   "outputs": [],
   "source": [
    "def init_robots():\n",
    "    for e in simulator.robots:\n",
    "        # Detach all behaviors and routines\n",
    "        e.detach_all_behaviors()\n",
    "        e.detach_all_routines()\n",
    "        # Attach all behaviors\n",
    "        e.attach_behavior(obstacle_avoidance, freq=10)\n",
    "        e.attach_behavior(foraging, freq=10)\n",
    "        # Attach all routines\n",
    "        e.attach_routine(epuck_log, freq=1)\n",
    "        e.attach_routine(hunger, freq=1)\n",
    "        # Initialize the robots characteristics\n",
    "        e.character = \"altruistic\"\n",
    "        e.energy_level = .5\n",
    "        # Start all behaviors and routines\n",
    "        e.start_all_behaviors()\n",
    "        e.start_all_routines()\n"
   ]
  },
  {
   "cell_type": "markdown",
   "metadata": {
    "colab_type": "text",
    "id": "fy6192Wnzno_"
   },
   "source": [
    "### Starting the simulation"
   ]
  },
  {
   "cell_type": "code",
   "execution_count": 7,
   "metadata": {
    "colab": {},
    "colab_type": "code",
    "id": "mPv7uqfaznpA",
    "outputId": "f0b3f68a-ec32-44d9-9d1f-8f27b31f20a4"
   },
   "outputs": [
    {
     "name": "stdout",
     "output_type": "stream",
     "text": [
      "Starting Sphere apparition\n",
      "Routine sphere_apparition started\n",
      "Routine eating started\n",
      "Initializing robots\n",
      "Behavior obstacle_avoidance started\n",
      "Behavior foraging started\n",
      "Routine epuck_log started\n",
      "Routine hunger started\n",
      "Behavior obstacle_avoidance started\n",
      "Behavior foraging started\n",
      "Routine epuck_log started\n",
      "Routine hunger started\n",
      "Behavior obstacle_avoidance started\n",
      "Behavior foraging started\n",
      "Routine epuck_log started\n",
      "Routine hunger started\n",
      "Behavior obstacle_avoidance started\n",
      "Behavior foraging started\n",
      "Routine epuck_log started\n",
      "Routine hunger started\n"
     ]
    }
   ],
   "source": [
    "print(\"Starting Sphere apparition\")\n",
    "simulator.start_sphere_apparition(period=3)\n",
    "print(\"Initializing robots\")\n",
    "init_robots()"
   ]
  },
  {
   "cell_type": "markdown",
   "metadata": {
    "colab_type": "text",
    "id": "zeb9PrQtznpD"
   },
   "source": [
    "### Changing the character"
   ]
  },
  {
   "cell_type": "markdown",
   "metadata": {
    "colab_type": "text",
    "id": "enpdLiKVznpD"
   },
   "source": [
    "In order to observe the effect a change of behavior has on the environment, we can manipulate the robot's character while the simulation is running."
   ]
  },
  {
   "cell_type": "code",
   "execution_count": 11,
   "metadata": {
    "colab": {},
    "colab_type": "code",
    "id": "XGASUOW-znpE"
   },
   "outputs": [],
   "source": [
    "for e in simulator.robots:\n",
    "    e.character = \"selfish\""
   ]
  },
  {
   "cell_type": "markdown",
   "metadata": {
    "colab_type": "text",
    "id": "ywv7RpyaznpF"
   },
   "source": [
    "### Stopping the simulation"
   ]
  },
  {
   "cell_type": "code",
   "execution_count": 14,
   "metadata": {
    "colab": {},
    "colab_type": "code",
    "id": "cX9NrEknznpG",
    "outputId": "702ac391-70ff-4101-ddcc-d0af03f1acf3"
   },
   "outputs": [
    {
     "name": "stdout",
     "output_type": "stream",
     "text": [
      "Routine sphere_apparition stopped\n",
      "Routine eating stopped\n"
     ]
    }
   ],
   "source": [
    "simulator.stop_sphere_apparition()\n",
    "simulator.close()"
   ]
  },
  {
   "cell_type": "markdown",
   "metadata": {
    "colab_type": "text",
    "id": "pxkA1hy9znpI"
   },
   "source": [
    "## Results"
   ]
  },
  {
   "cell_type": "markdown",
   "metadata": {
    "colab_type": "text",
    "id": "3AB-35qSznpI"
   },
   "source": [
    "Here we can look at the development of energy level and sphere number over time. It can be observed that the altruistic robots seem to stabilize after a while, maintaining roughly the same energy across all robots without depleting all the resources. Once the selfish behavior is activated, a rapid decrease in resource can be observed and the energy level of the robots has greater variation - in some cases we can even observe starvation of a robot."
   ]
  },
  {
   "cell_type": "markdown",
   "metadata": {
    "colab_type": "text",
    "id": "tf8zSWQyznpJ"
   },
   "source": [
    "### Plotting the energy level"
   ]
  },
  {
   "cell_type": "code",
   "execution_count": 12,
   "metadata": {
    "colab": {},
    "colab_type": "code",
    "id": "_ynYAsQRznpJ",
    "outputId": "968d66b1-8ea1-47e0-8c77-9af4a373a7d1"
   },
   "outputs": [
    {
     "name": "stdout",
     "output_type": "stream",
     "text": [
      "Populating the interactive namespace from numpy and matplotlib\n"
     ]
    },
    {
     "name": "stderr",
     "output_type": "stream",
     "text": [
      "/Library/Frameworks/Python.framework/Versions/3.7/lib/python3.7/site-packages/IPython/core/magics/pylab.py:160: UserWarning: pylab import has clobbered these variables: ['e']\n",
      "`%matplotlib` prevents importing * from pylab and numpy\n",
      "  \"\\n`%matplotlib` prevents importing * from pylab and numpy\"\n"
     ]
    },
    {
     "data": {
      "image/png": "[encoded data removed]",
      "text/plain": [
       "<Figure size 432x288 with 1 Axes>"
      ]
     },
     "metadata": {
      "needs_background": "light"
     },
     "output_type": "display_data"
    }
   ],
   "source": [
    "# The line below is mandatory to inform the notebook we want to plot directly in it\n",
    "%pylab inline\n",
    "# Plot the energy levels recorded by all epucks\n",
    "plt.plot(epuck1.get_log(\"energy\"))\n",
    "plt.plot(epuck2.get_log(\"energy\"))\n",
    "plt.plot(epuck3.get_log(\"energy\"))\n",
    "plt.plot(epuck4.get_log(\"energy\"))\n",
    "plt.legend([\"epuck1\", \"epuck2\",\"epuck3\", \"epuck4\"])\n",
    "plt.xlabel(\"Time\")\n",
    "plt.ylabel(\"Energy level\")\n",
    "plt.title(\"Plot of energy level against time\")\n",
    "plt.show()"
   ]
  },
  {
   "cell_type": "markdown",
   "metadata": {
    "colab_type": "text",
    "id": "Ac7t7sOaznpL"
   },
   "source": [
    "### Plotting the sphere number"
   ]
  },
  {
   "cell_type": "code",
   "execution_count": 13,
   "metadata": {
    "colab": {},
    "colab_type": "code",
    "id": "FuXmcxI7znpM"
   },
   "outputs": [
    {
     "name": "stdout",
     "output_type": "stream",
     "text": [
      "Populating the interactive namespace from numpy and matplotlib\n"
     ]
    },
    {
     "data": {
      "image/png": "[encoded data removed]",
      "text/plain": [
       "<Figure size 432x288 with 1 Axes>"
      ]
     },
     "metadata": {
      "needs_background": "light"
     },
     "output_type": "display_data"
    }
   ],
   "source": [
    "# The line below is mandatory to inform the notebook we want to plot directly in it\n",
    "%pylab inline\n",
    "# Plot the number of spheres in the scene\n",
    "plt.plot(SPHERE_NUMBERS)\n",
    "plt.legend([\"spheres\"])\n",
    "plt.xlabel(\"Time\")\n",
    "plt.ylabel(\"Sphere number\")\n",
    "plt.title(\"Plot of amount of spheres in scene against time\")\n",
    "plt.show()"
   ]
  },
  {
   "cell_type": "markdown",
   "metadata": {
    "colab_type": "text",
    "id": "zB1RZe71znpO"
   },
   "source": [
    "## Discussion"
   ]
  },
  {
   "cell_type": "markdown",
   "metadata": {
    "colab_type": "text",
    "id": "2siN_gLjznpO"
   },
   "source": [
    "### Summary of the project\n",
    "The project aims to simulate the emergence of the tragedy of the commons and a behavioral solution to it. Through our simulation, we can see what the consequences are in the environment when one type or another of behavior occurs, i.e., if occurs the selfish behavior, the altruistic behavior or a combination of both in the population. The results found are:\n",
    "\n",
    "  * There is a drastic reduction of the shared resource when the entire population exhibits selfish behavior, regardless of the common good. In addition, the energies of the robots (welfare of each individual) are less homogeneous and vary more in range.\n",
    "\n",
    "\n",
    "  * The amount of resources remains stable if the entire population exhibits altruistic behavior. The robots, in this case, do not act selfish but take into account the energy levels of the other robots (\"individuals\") allowing them to acquire the resource if their energy is lower. Also, they only eat when there really is a need (when their energy is below a threshold). The common good is being taken into account in this case.\n",
    "  \n",
    "\n",
    "  * In reality, we usually find that there is a combination of both behaviors between individuals that are part of a particular ecosystem. In this case, if the environmental conditions are normal, the selfish agents win and the altruistic population is driven to extinction.\n",
    "\n",
    "\n",
    "\n",
    "### Limitations\n",
    "Our scene represents only a very simple model: we are working with a small number of \"animals\", which have very limited capabilities of sensing and manipulating their environment. The behaviors we implemented are only a very rough approximation of real animal behaviors and our simulation might therefore not actually represent the situation well enough to draw any conclusions. The virtual environment we worked with posed a number of problems - sometimes, for example, robots would be knocked prone by a newly appearing energy source. Also, stopping the robots from not getting stuck in corners or against each other did not always work as expected. \n",
    "\n",
    "\n",
    "\n",
    "### Possible extensions\n",
    "\n",
    "In the theory of the Tragedy of the Commons it is important to take into account (1) what are the conditions of the environment and (2) the difficulty of obtaining a new resource when it is being exploited. Therefore, our model can be extended so that (1) robots can have knowledge of environmental conditions, i.e., know if there are more or fewer resources in the ecosystem and (2) control the frequency of the appearance of resources since if the environment is being exploited (overexploitation) the time of appearing a new resource would be more than if the medium is in stable/normal conditions.\n",
    "\n",
    "Building on our model, it would be possible to create a simulation that is very close to a realistic scenario. This might be done using technologies such as deep-learning in order to model more complex agents and environments.\n",
    "Such a simulation might then be used in order to gain new insights on topics such as animal or human behavior, the mechanics of reinforcement learning (https://arxiv.org/abs/1707.06600) or even the emergence of social structures and ethics.\n",
    "   "
   ]
  },
  {
   "cell_type": "code",
   "execution_count": 0,
   "metadata": {
    "colab": {},
    "colab_type": "code",
    "id": "S22vemubu0xl"
   },
   "outputs": [],
   "source": []
  }
 ],
 "metadata": {
  "colab": {
   "collapsed_sections": [],
   "name": "SDIC_Tragedy_Commons_4.ipynb",
   "provenance": []
  },
  "kernelspec": {
   "display_name": "Python 3",
   "language": "python",
   "name": "python3"
  },
  "language_info": {
   "codemirror_mode": {
    "name": "ipython",
    "version": 3
   },
   "file_extension": ".py",
   "mimetype": "text/x-python",
   "name": "python",
   "nbconvert_exporter": "python",
   "pygments_lexer": "ipython3",
   "version": "3.7.1"
  }
 },
 "nbformat": 4,
 "nbformat_minor": 1
}
