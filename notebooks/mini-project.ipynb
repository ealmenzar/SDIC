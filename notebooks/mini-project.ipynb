{
 "cells": [
  {
   "cell_type": "code",
   "execution_count": 1,
   "metadata": {},
   "outputs": [],
   "source": [
    "from simulator_interface import open_session, close_session\n",
    "import numpy as np\n",
    "simulator, epuck1, epuck2 = open_session(n_epucks=2)"
   ]
  },
  {
   "cell_type": "code",
   "execution_count": 2,
   "metadata": {},
   "outputs": [],
   "source": [
    "epuck1.species = \"selfish\"\n",
    "epuck2.species = \"altruistic\""
   ]
  },
  {
   "cell_type": "code",
   "execution_count": 3,
   "metadata": {},
   "outputs": [],
   "source": [
    "def foraging_drive(robot): \n",
    "    if robot.has_eaten():\n",
    "        robot.energy_level += 0.2  # if the robot has eaten a sphere, increase its energy level by 0.2\n",
    "    else:\n",
    "        robot.energy_level -= 0.01  # otherwise (nothing eaten), decrease the energy level by 0.01\n",
    "    # The line below bounds the value of the energy level between 0 and 1\n",
    "    robot.energy_level = min(1., max(robot.energy_level, 0.))\n",
    "\n",
    "'''\n",
    "Altruistic routine determined by _w attribute\n",
    "Find another robot with lower energy ==> _w increases ==> \n",
    "==> altruistic behavior increases (see foraging and away_from_spheres behaviors) \n",
    "'''\n",
    "def altruistic_drive(robot):\n",
    "    (left, right), (epuck_left, epuck_right) = robot.prox_activations(tracked_objects=[\"ePuck\"], return_epucks=True)\n",
    "    left_energy, right_energy = robot.sensed_epuck_attributes(epuck_left, epuck_right, \"energy_level\", default_value=0)\n",
    "    \n",
    "    not_dead = left_energy > 0. or right_energy > 0.  # some ePuck has been detected and at least one of \n",
    "                                                      # them is not dead\n",
    "    lower_energy = left_energy < robot.energy_level or right_energy < robot.energy_level  # some of the detected \n",
    "                                                                                          # ePucks have less energy \n",
    "                                                                                          # than me\n",
    "    if(not_dead and lower_energy):\n",
    "        if(min(left_energy, right_energy) != 0): \n",
    "            low_energy = min(left_energy, right_energy)\n",
    "        else: \n",
    "            low_energy = max(left_energy, right_energy)  # avoid value 0\n",
    "        robot._w = (np.sqrt(1/low_energy) - 1)/2         # between 0 and 1\n",
    "    else: \n",
    "        robot._w = 0\n",
    "    \n",
    "    \n",
    "def foraging(robot):\n",
    "    left, right = robot.prox_activations(tracked_objects=[\"Sphere\"])\n",
    "    if(robot.species == \"selfish\"): \n",
    "        left_activation = right\n",
    "        right_activation = left\n",
    "        w = 2\n",
    "    else:\n",
    "        left_activation = max(right - robot._w, 0.1)\n",
    "        right_activation = max(left - robot._w, 0.1)\n",
    "        w = 2 - robot.energy_level - robot._w  # if ePuck is altruistic, foraging behavior decreases when\n",
    "                                               # _w value increases\n",
    "    return left_activation, right_activation, w\n",
    "\n",
    "\n",
    "def away_from_spheres(robot):\n",
    "    left, right = robot.prox_activations(tracked_objects=[\"Sphere\"])\n",
    "    left_activation = left\n",
    "    right_activation = right\n",
    "    if(robot.species == \"selfish\"): w = 0\n",
    "    else: w = robot.energy_level + robot._w  # if ePuck is altruistic, away_from_spheres behavior increases\n",
    "                                             # when _w value increases\n",
    "    return left_activation, right_activation, w\n",
    "\n",
    "    \n",
    "def obstacle_avoidance(robot):\n",
    "    left, right = robot.prox_activations(tracked_objects=[\"20cm\", \"Tree\", \"Cup\"])\n",
    "    return 1 - right, 1 - left"
   ]
  },
  {
   "cell_type": "code",
   "execution_count": 4,
   "metadata": {},
   "outputs": [
    {
     "name": "stdout",
     "output_type": "stream",
     "text": [
      "Routine sphere_apparition started\n",
      "Routine eating started\n",
      "Routine foraging_drive started\n",
      "Behavior obstacle_avoidance started\n",
      "Behavior foraging started\n",
      "Routine foraging_drive started\n",
      "Routine altruistic_drive started\n",
      "Behavior obstacle_avoidance started\n",
      "Behavior foraging started\n"
     ]
    }
   ],
   "source": [
    "simulator.start_sphere_apparition(period=10)\n",
    "for e in simulator.robots: \n",
    "    e.detach_all_behaviors()\n",
    "    e.attach_routine(foraging_drive, freq=1)\n",
    "    e.energy_level = 0.5\n",
    "    e.start_routine(foraging_drive)\n",
    "    e.attach_behavior(obstacle_avoidance, freq=10)\n",
    "    e.attach_behavior(foraging, freq=10)\n",
    "    if e.species == \"altruistic\":\n",
    "        e.attach_routine(altruistic_drive, freq=1)\n",
    "        e._w = 0.0\n",
    "        e.start_routine(altruistic_drive)\n",
    "    e.start_all_behaviors()"
   ]
  },
  {
   "cell_type": "code",
   "execution_count": 5,
   "metadata": {},
   "outputs": [
    {
     "name": "stdout",
     "output_type": "stream",
     "text": [
      "Routine sphere_apparition stopped\n",
      "Routine eating stopped\n"
     ]
    }
   ],
   "source": [
    "simulator.stop_sphere_apparition()\n",
    "for e in simulator.robots: \n",
    "    e.detach_all_behaviors()"
   ]
  },
  {
   "cell_type": "code",
   "execution_count": null,
   "metadata": {},
   "outputs": [],
   "source": []
  }
 ],
 "metadata": {
  "kernelspec": {
   "display_name": "Python 3",
   "language": "python",
   "name": "python3"
  },
  "language_info": {
   "codemirror_mode": {
    "name": "ipython",
    "version": 3
   },
   "file_extension": ".py",
   "mimetype": "text/x-python",
   "name": "python",
   "nbconvert_exporter": "python",
   "pygments_lexer": "ipython3",
   "version": "3.7.1"
  }
 },
 "nbformat": 4,
 "nbformat_minor": 2
}
